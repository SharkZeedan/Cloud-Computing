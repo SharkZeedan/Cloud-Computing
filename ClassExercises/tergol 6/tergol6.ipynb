{
  "nbformat": 4,
  "nbformat_minor": 0,
  "metadata": {
    "colab": {
      "provenance": []
    },
    "kernelspec": {
      "name": "python3",
      "display_name": "Python 3"
    },
    "language_info": {
      "name": "python"
    }
  },
  "cells": [
    {
      "cell_type": "code",
      "execution_count": 38,
      "metadata": {
        "colab": {
          "base_uri": "https://localhost:8080/"
        },
        "id": "0YL7h2-_Ovow",
        "outputId": "ac8d9b0a-bb13-4163-cb2a-d528f0cc18f1"
      },
      "outputs": [
        {
          "output_type": "stream",
          "name": "stdout",
          "text": [
            "Requirement already satisfied: requests in /usr/local/lib/python3.10/dist-packages (2.31.0)\n",
            "Requirement already satisfied: beautifulsoup4 in /usr/local/lib/python3.10/dist-packages (4.12.3)\n",
            "Requirement already satisfied: charset-normalizer<4,>=2 in /usr/local/lib/python3.10/dist-packages (from requests) (3.3.2)\n",
            "Requirement already satisfied: idna<4,>=2.5 in /usr/local/lib/python3.10/dist-packages (from requests) (3.7)\n",
            "Requirement already satisfied: urllib3<3,>=1.21.1 in /usr/local/lib/python3.10/dist-packages (from requests) (2.0.7)\n",
            "Requirement already satisfied: certifi>=2017.4.17 in /usr/local/lib/python3.10/dist-packages (from requests) (2024.6.2)\n",
            "Requirement already satisfied: soupsieve>1.2 in /usr/local/lib/python3.10/dist-packages (from beautifulsoup4) (2.5)\n"
          ]
        }
      ],
      "source": [
        "!pip install requests beautifulsoup4\n",
        "import requests\n",
        "import re\n",
        "from nltk.stem import PorterStemmer\n",
        "from bs4 import BeautifulSoup\n",
        "\n",
        "\n",
        "def fetch_page(url):\n",
        "  response = requests.get(url)\n",
        "  if response.status_code == 200:\n",
        "    soup = BeautifulSoup(response.text, 'html.parser')\n",
        "    return soup\n",
        "  else:\n",
        "    return None"
      ]
    },
    {
      "cell_type": "code",
      "source": [
        "def index_words(soup):\n",
        "  index = {}\n",
        "  words = re.findall(r'\\w+', soup.get_text())\n",
        "  for word in words:\n",
        "    word = word.lower()\n",
        "    if word in index:\n",
        "      index[word] += 1\n",
        "    else:\n",
        "      index[word] = 1\n",
        "  return index\n"
      ],
      "metadata": {
        "id": "o7Kos3NXRCz4"
      },
      "execution_count": 39,
      "outputs": []
    },
    {
      "cell_type": "code",
      "source": [
        "def remove_stop_words(index):\n",
        "  stop_words = {'a', 'an', 'the', 'and', 'or','in', 'on', 'at'}\n",
        "  for stop_word in stop_words:\n",
        "    if stop_word in index:\n",
        "      del index[stop_word]\n",
        "  return index\n"
      ],
      "metadata": {
        "id": "K87XnCtfRRPl"
      },
      "execution_count": 40,
      "outputs": []
    },
    {
      "cell_type": "code",
      "source": [
        "def apply_stemming(index):\n",
        "  stemmer = PorterStemmer()\n",
        "  stemmed_index = {}\n",
        "  for word, count in index.items():\n",
        "    stemmed_word = stemmer.stem(word)\n",
        "    if stemmed_word in stemmed_index:\n",
        "      stemmed_index[stemmed_word] += count\n",
        "    else:\n",
        "      stemmed_index[stemmed_word] = count\n",
        "  return stemmed_index\n"
      ],
      "metadata": {
        "id": "GbX5rU_ARXZd"
      },
      "execution_count": 41,
      "outputs": []
    },
    {
      "cell_type": "code",
      "source": [
        "def search(query, index):\n",
        "  stemmer = PorterStemmer()\n",
        "  query_words = re.findall(r'\\w+', query.lower())\n",
        "  results = {}\n",
        "  for word in query_words:\n",
        "    word = stemmer.stem(word)\n",
        "    if word in index:\n",
        "      results[word] = index[word]\n",
        "  return results\n"
      ],
      "metadata": {
        "id": "hN7meohmRfM9"
      },
      "execution_count": 42,
      "outputs": []
    },
    {
      "cell_type": "code",
      "source": [
        "def search_engine(url, query):\n",
        "  soup = fetch_page(url)\n",
        "  if soup is None:\n",
        "    return None\n",
        "  index = index_words(soup)\n",
        "  index = remove_stop_words(index)\n",
        "  index = apply_stemming(index)\n",
        "  results = search(query, index)\n",
        "  return results\n"
      ],
      "metadata": {
        "id": "7RHum_w7RjLt"
      },
      "execution_count": 43,
      "outputs": []
    },
    {
      "cell_type": "code",
      "source": [
        "!pip install firebase\n",
        "from firebase import firebase\n",
        "FBconn = firebase.FirebaseApplication('https://tergol6-ae9fb-default-rtdb.firebaseio.com/',None)"
      ],
      "metadata": {
        "colab": {
          "base_uri": "https://localhost:8080/"
        },
        "id": "lk-0rFl8VTg1",
        "outputId": "b6043243-0c92-4e2a-9e21-48cc7b2f83f4"
      },
      "execution_count": 44,
      "outputs": [
        {
          "output_type": "stream",
          "name": "stdout",
          "text": [
            "Collecting firebase\n",
            "  Downloading firebase-4.0.1-py3-none-any.whl (12 kB)\n",
            "Requirement already satisfied: requests in /usr/local/lib/python3.10/dist-packages (from firebase) (2.31.0)\n",
            "Requirement already satisfied: charset-normalizer<4,>=2 in /usr/local/lib/python3.10/dist-packages (from requests->firebase) (3.3.2)\n",
            "Requirement already satisfied: idna<4,>=2.5 in /usr/local/lib/python3.10/dist-packages (from requests->firebase) (3.7)\n",
            "Requirement already satisfied: urllib3<3,>=1.21.1 in /usr/local/lib/python3.10/dist-packages (from requests->firebase) (2.0.7)\n",
            "Requirement already satisfied: certifi>=2017.4.17 in /usr/local/lib/python3.10/dist-packages (from requests->firebase) (2024.6.2)\n",
            "Installing collected packages: firebase\n",
            "Successfully installed firebase-4.0.1\n"
          ]
        }
      ]
    },
    {
      "cell_type": "code",
      "source": [
        "url = 'https://cad.onshape.com/help/Content/Glossary/glossary.htm?tocpath=_____19'\n",
        "query = 'point keyboard context plan type draw opens allow sketch part'\n",
        "results = search_engine(url, query)\n",
        "\n",
        "print(\"The Results:\")\n",
        "\n",
        "for word, count in results.items():\n",
        "  print(f\"{word}: {count}\")\n",
        "\n",
        "rank = 1\n",
        "for word, count in results.items():\n",
        "  rank = rank*1/count\n",
        "rank = 1-rank\n",
        "print(\"The Rank is:\",rank)\n",
        "\n",
        "result = FBconn.post('/Result',results)\n"
      ],
      "metadata": {
        "colab": {
          "base_uri": "https://localhost:8080/"
        },
        "id": "GpgozJS6TUps",
        "outputId": "87ce5c30-0202-436c-87fb-817c96798aae"
      },
      "execution_count": 58,
      "outputs": [
        {
          "output_type": "stream",
          "name": "stdout",
          "text": [
            "The Results:\n",
            "point: 74\n",
            "keyboard: 631\n",
            "context: 676\n",
            "plan: 626\n",
            "type: 656\n",
            "draw: 226\n",
            "open: 61\n",
            "allow: 67\n",
            "sketch: 220\n",
            "part: 524\n",
            "The Rank is: 1.0\n"
          ]
        }
      ]
    },
    {
      "cell_type": "code",
      "source": [
        "import matplotlib.pyplot as plt\n",
        "\n",
        "FBconn = firebase.FirebaseApplication('https://tergol6-ae9fb-default-rtdb.firebaseio.com/',None)\n",
        "result=FBconn.get('Result',None)\n",
        "dic = {}\n",
        "for value in result.values():\n",
        "  dic.update(value)\n",
        "plt.bar(dic.keys(), dic.values())\n",
        "plt.xticks(fontsize=8)\n",
        "plt.show()"
      ],
      "metadata": {
        "colab": {
          "base_uri": "https://localhost:8080/",
          "height": 426
        },
        "id": "lEqjtDEohHbE",
        "outputId": "f5bc33b1-a208-497f-a9a8-bb13ed3e1589"
      },
      "execution_count": 64,
      "outputs": [
        {
          "output_type": "display_data",
          "data": {
            "text/plain": [
              "<Figure size 640x480 with 1 Axes>"
            ],
            "image/png": "[encoded data removed]"
          },
          "metadata": {}
        }
      ]
    }
  ]
}
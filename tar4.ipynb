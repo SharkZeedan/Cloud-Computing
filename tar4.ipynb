{
  "nbformat": 4,
  "nbformat_minor": 0,
  "metadata": {
    "colab": {
      "provenance": [],
      "toc_visible": true
    },
    "kernelspec": {
      "name": "python3",
      "display_name": "Python 3"
    },
    "language_info": {
      "name": "python"
    },
    "widgets": {
      "application/vnd.jupyter.widget-state+json": {
        "c096152d00d246528128c9ea5da47aeb": {
          "model_module": "@jupyter-widgets/controls",
          "model_name": "VBoxModel",
          "model_module_version": "1.5.0",
          "state": {
            "_dom_classes": [
              "widget-interact"
            ],
            "_model_module": "@jupyter-widgets/controls",
            "_model_module_version": "1.5.0",
            "_model_name": "VBoxModel",
            "_view_count": null,
            "_view_module": "@jupyter-widgets/controls",
            "_view_module_version": "1.5.0",
            "_view_name": "VBoxView",
            "box_style": "",
            "children": [
              "IPY_MODEL_9d6d6e3fdede43c792c024ee6106f08d",
              "IPY_MODEL_6bd3cb0cdfa74cac9c9af64feb359381"
            ],
            "layout": "IPY_MODEL_7b3fcb25e2e14c9d9e0c7ccb3b73363a"
          }
        },
        "9d6d6e3fdede43c792c024ee6106f08d": {
          "model_module": "@jupyter-widgets/controls",
          "model_name": "DropdownModel",
          "model_module_version": "1.5.0",
          "state": {
            "_dom_classes": [],
            "_model_module": "@jupyter-widgets/controls",
            "_model_module_version": "1.5.0",
            "_model_name": "DropdownModel",
            "_options_labels": [
              "Date",
              "Time_of_Day",
              "Document",
              "Tab",
              "User",
              "Description"
            ],
            "_view_count": null,
            "_view_module": "@jupyter-widgets/controls",
            "_view_module_version": "1.5.0",
            "_view_name": "DropdownView",
            "description": "Filter:",
            "description_tooltip": null,
            "disabled": false,
            "index": 4,
            "layout": "IPY_MODEL_b237b875cd114cf5997bba909622f1e9",
            "style": "IPY_MODEL_bec0e1dce4c5422db3f4c5cb19c9760f"
          }
        },
        "6bd3cb0cdfa74cac9c9af64feb359381": {
          "model_module": "@jupyter-widgets/output",
          "model_name": "OutputModel",
          "model_module_version": "1.0.0",
          "state": {
            "_dom_classes": [],
            "_model_module": "@jupyter-widgets/output",
            "_model_module_version": "1.0.0",
            "_model_name": "OutputModel",
            "_view_count": null,
            "_view_module": "@jupyter-widgets/output",
            "_view_module_version": "1.0.0",
            "_view_name": "OutputView",
            "layout": "IPY_MODEL_ecfa3188327d46f18323c1f35eedb2de",
            "msg_id": "",
            "outputs": [
              {
                "output_type": "display_data",
                "data": {
                  "text/plain": "<Figure size 1200x600 with 1 Axes>",
                  "image/png": "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\n"
                },
                "metadata": {}
              }
            ]
          }
        },
        "7b3fcb25e2e14c9d9e0c7ccb3b73363a": {
          "model_module": "@jupyter-widgets/base",
          "model_name": "LayoutModel",
          "model_module_version": "1.2.0",
          "state": {
            "_model_module": "@jupyter-widgets/base",
            "_model_module_version": "1.2.0",
            "_model_name": "LayoutModel",
            "_view_count": null,
            "_view_module": "@jupyter-widgets/base",
            "_view_module_version": "1.2.0",
            "_view_name": "LayoutView",
            "align_content": null,
            "align_items": null,
            "align_self": null,
            "border": null,
            "bottom": null,
            "display": null,
            "flex": null,
            "flex_flow": null,
            "grid_area": null,
            "grid_auto_columns": null,
            "grid_auto_flow": null,
            "grid_auto_rows": null,
            "grid_column": null,
            "grid_gap": null,
            "grid_row": null,
            "grid_template_areas": null,
            "grid_template_columns": null,
            "grid_template_rows": null,
            "height": null,
            "justify_content": null,
            "justify_items": null,
            "left": null,
            "margin": null,
            "max_height": null,
            "max_width": null,
            "min_height": null,
            "min_width": null,
            "object_fit": null,
            "object_position": null,
            "order": null,
            "overflow": null,
            "overflow_x": null,
            "overflow_y": null,
            "padding": null,
            "right": null,
            "top": null,
            "visibility": null,
            "width": null
          }
        },
        "b237b875cd114cf5997bba909622f1e9": {
          "model_module": "@jupyter-widgets/base",
          "model_name": "LayoutModel",
          "model_module_version": "1.2.0",
          "state": {
            "_model_module": "@jupyter-widgets/base",
            "_model_module_version": "1.2.0",
            "_model_name": "LayoutModel",
            "_view_count": null,
            "_view_module": "@jupyter-widgets/base",
            "_view_module_version": "1.2.0",
            "_view_name": "LayoutView",
            "align_content": null,
            "align_items": null,
            "align_self": null,
            "border": null,
            "bottom": null,
            "display": null,
            "flex": null,
            "flex_flow": null,
            "grid_area": null,
            "grid_auto_columns": null,
            "grid_auto_flow": null,
            "grid_auto_rows": null,
            "grid_column": null,
            "grid_gap": null,
            "grid_row": null,
            "grid_template_areas": null,
            "grid_template_columns": null,
            "grid_template_rows": null,
            "height": null,
            "justify_content": null,
            "justify_items": null,
            "left": null,
            "margin": null,
            "max_height": null,
            "max_width": null,
            "min_height": null,
            "min_width": null,
            "object_fit": null,
            "object_position": null,
            "order": null,
            "overflow": null,
            "overflow_x": null,
            "overflow_y": null,
            "padding": null,
            "right": null,
            "top": null,
            "visibility": null,
            "width": null
          }
        },
        "bec0e1dce4c5422db3f4c5cb19c9760f": {
          "model_module": "@jupyter-widgets/controls",
          "model_name": "DescriptionStyleModel",
          "model_module_version": "1.5.0",
          "state": {
            "_model_module": "@jupyter-widgets/controls",
            "_model_module_version": "1.5.0",
            "_model_name": "DescriptionStyleModel",
            "_view_count": null,
            "_view_module": "@jupyter-widgets/base",
            "_view_module_version": "1.2.0",
            "_view_name": "StyleView",
            "description_width": ""
          }
        },
        "ecfa3188327d46f18323c1f35eedb2de": {
          "model_module": "@jupyter-widgets/base",
          "model_name": "LayoutModel",
          "model_module_version": "1.2.0",
          "state": {
            "_model_module": "@jupyter-widgets/base",
            "_model_module_version": "1.2.0",
            "_model_name": "LayoutModel",
            "_view_count": null,
            "_view_module": "@jupyter-widgets/base",
            "_view_module_version": "1.2.0",
            "_view_name": "LayoutView",
            "align_content": null,
            "align_items": null,
            "align_self": null,
            "border": null,
            "bottom": null,
            "display": null,
            "flex": null,
            "flex_flow": null,
            "grid_area": null,
            "grid_auto_columns": null,
            "grid_auto_flow": null,
            "grid_auto_rows": null,
            "grid_column": null,
            "grid_gap": null,
            "grid_row": null,
            "grid_template_areas": null,
            "grid_template_columns": null,
            "grid_template_rows": null,
            "height": null,
            "justify_content": null,
            "justify_items": null,
            "left": null,
            "margin": null,
            "max_height": null,
            "max_width": null,
            "min_height": null,
            "min_width": null,
            "object_fit": null,
            "object_position": null,
            "order": null,
            "overflow": null,
            "overflow_x": null,
            "overflow_y": null,
            "padding": null,
            "right": null,
            "top": null,
            "visibility": null,
            "width": null
          }
        }
      }
    }
  },
  "cells": [
    {
      "cell_type": "code",
      "execution_count": null,
      "metadata": {
        "colab": {
          "base_uri": "https://localhost:8080/"
        },
        "id": "De6YzRXI1WnV",
        "outputId": "df237a4d-158d-46cc-88cf-08c3850f81e5"
      },
      "outputs": [
        {
          "output_type": "stream",
          "name": "stdout",
          "text": [
            "Drive already mounted at /content/drive; to attempt to forcibly remount, call drive.mount(\"/content/drive\", force_remount=True).\n"
          ]
        }
      ],
      "source": [
        "from google.colab import drive\n",
        "drive.mount('/content/drive')\n"
      ]
    },
    {
      "cell_type": "code",
      "source": [
        "# Import necessary libraries\n",
        "import pandas as pd\n",
        "import matplotlib.pyplot as plt\n",
        "from datetime import datetime\n",
        "import ipywidgets as widgets\n",
        "from IPython.display import display"
      ],
      "metadata": {
        "id": "4BdjkXEiIf8j"
      },
      "execution_count": null,
      "outputs": []
    },
    {
      "cell_type": "code",
      "source": [
        "json_file = '/content/drive/My Drive/data.json'\n",
        "df = pd.read_json(json_file)"
      ],
      "metadata": {
        "id": "bZPOcdq6ItEP"
      },
      "execution_count": null,
      "outputs": []
    },
    {
      "cell_type": "code",
      "source": [
        "# Convert 'Time' column to datetime format\n",
        "df['Time'] = pd.to_datetime(df['Time'])\n",
        "\n",
        "# Extract date and time components for plotting\n",
        "df['Date'] = df['Time'].dt.date\n",
        "df['Time_of_Day'] = df['Time'].dt.time\n",
        "\n",
        "# Create dropdown widget for filter selection\n",
        "filter_dropdown = widgets.Dropdown(\n",
        "    options=['Date', 'Time_of_Day', 'Document', 'Tab', 'User', 'Description'],\n",
        "    value='Date',\n",
        "    description='Filter:',\n",
        "    disabled=False,\n",
        ")"
      ],
      "metadata": {
        "id": "tYmZk6_bJDCA"
      },
      "execution_count": null,
      "outputs": []
    },
    {
      "cell_type": "code",
      "source": [
        "# Function to update plot based on selected filter\n",
        "def update_plot(filter_value):\n",
        "    plt.figure(figsize=(12, 6))\n",
        "\n",
        "    if filter_value == 'Date':\n",
        "        data_to_plot = df.groupby('Date').size().reset_index(name='Event Count')\n",
        "        plt.bar(data_to_plot['Date'].astype(str), data_to_plot['Event Count'], color='skyblue')\n",
        "        plt.xlabel('Date')\n",
        "    elif filter_value == 'Time_of_Day':\n",
        "        data_to_plot = df.groupby('Time_of_Day').size().reset_index(name='Event Count')\n",
        "        plt.bar(data_to_plot['Time_of_Day'].astype(str), data_to_plot['Event Count'], color='skyblue')\n",
        "        plt.xlabel('Time of Day')\n",
        "    elif filter_value in df.columns:\n",
        "        data_to_plot = df.groupby(filter_value).size().reset_index(name='Event Count')\n",
        "        plt.bar(data_to_plot[filter_value].astype(str), data_to_plot['Event Count'], color='skyblue')\n",
        "        plt.xlabel(filter_value)\n",
        "\n",
        "    plt.title(f'Number of Events by {filter_value}')\n",
        "    plt.ylabel('Number of Events')\n",
        "    plt.xticks(rotation=45)\n",
        "    plt.tight_layout()\n",
        "    plt.show()"
      ],
      "metadata": {
        "id": "GXRTj0DKI127"
      },
      "execution_count": null,
      "outputs": []
    },
    {
      "cell_type": "code",
      "source": [
        "# Display the dropdown widget and plot\n",
        "widgets.interactive(update_plot, filter_value=filter_dropdown)"
      ],
      "metadata": {
        "colab": {
          "base_uri": "https://localhost:8080/",
          "height": 601,
          "referenced_widgets": [
            "c096152d00d246528128c9ea5da47aeb",
            "9d6d6e3fdede43c792c024ee6106f08d",
            "6bd3cb0cdfa74cac9c9af64feb359381",
            "7b3fcb25e2e14c9d9e0c7ccb3b73363a",
            "b237b875cd114cf5997bba909622f1e9",
            "bec0e1dce4c5422db3f4c5cb19c9760f",
            "ecfa3188327d46f18323c1f35eedb2de"
          ]
        },
        "id": "rZba7fCoJHJ0",
        "outputId": "a3f12b9e-5b1f-4823-f135-07fe619716c2"
      },
      "execution_count": null,
      "outputs": [
        {
          "output_type": "display_data",
          "data": {
            "text/plain": [
              "interactive(children=(Dropdown(description='Filter:', options=('Date', 'Time_of_Day', 'Document', 'Tab', 'User…"
            ],
            "application/vnd.jupyter.widget-view+json": {
              "version_major": 2,
              "version_minor": 0,
              "model_id": "c096152d00d246528128c9ea5da47aeb"
            }
          },
          "metadata": {}
        }
      ]
    }
  ]
}
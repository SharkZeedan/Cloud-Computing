{
  "nbformat": 4,
  "nbformat_minor": 0,
  "metadata": {
    "colab": {
      "provenance": [],
      "authorship_tag": "ABX9TyO+/5m1SDpwH3ffge2cRUeY",
      "include_colab_link": true
    },
    "kernelspec": {
      "name": "python3",
      "display_name": "Python 3"
    },
    "language_info": {
      "name": "python"
    }
  },
  "cells": [
    {
      "cell_type": "markdown",
      "metadata": {
        "id": "view-in-github",
        "colab_type": "text"
      },
      "source": [
        "<a href=\"https://colab.research.google.com/github/SharkZeedan/Cloud-Computing/blob/main/tut5.ipynb\" target=\"_parent\"><img src=\"https://colab.research.google.com/assets/colab-badge.svg\" alt=\"Open In Colab\"/></a>"
      ]
    },
    {
      "cell_type": "code",
      "execution_count": 25,
      "metadata": {
        "colab": {
          "base_uri": "https://localhost:8080/"
        },
        "id": "uj4YeF4z2KZJ",
        "outputId": "eb7428e4-191f-4485-a2f8-8b095287682f"
      },
      "outputs": [
        {
          "output_type": "stream",
          "name": "stdout",
          "text": [
            "Requirement already satisfied: firebase in /usr/local/lib/python3.10/dist-packages (4.0.1)\n",
            "Requirement already satisfied: requests in /usr/local/lib/python3.10/dist-packages (from firebase) (2.31.0)\n",
            "Requirement already satisfied: charset-normalizer<4,>=2 in /usr/local/lib/python3.10/dist-packages (from requests->firebase) (3.3.2)\n",
            "Requirement already satisfied: idna<4,>=2.5 in /usr/local/lib/python3.10/dist-packages (from requests->firebase) (3.7)\n",
            "Requirement already satisfied: urllib3<3,>=1.21.1 in /usr/local/lib/python3.10/dist-packages (from requests->firebase) (2.0.7)\n",
            "Requirement already satisfied: certifi>=2017.4.17 in /usr/local/lib/python3.10/dist-packages (from requests->firebase) (2024.6.2)\n"
          ]
        }
      ],
      "source": [
        "!pip install firebase\n",
        "from firebase import firebase\n",
        "FBconn = firebase.FirebaseApplication('https://tut5-a7585-default-rtdb.firebaseio.com',None)\n",
        "\n",
        "data1={\n",
        "    'Name': ' Kareem Zeedan',\n",
        "     'email':'kareem.zeedan@e.braude.ac.il',\n",
        "     'Course': ' Probability',\n",
        "     'Hobby': ' Spearfishing'\n",
        "}\n",
        "data2={\n",
        "    'Name': ' Rami Taha',\n",
        "     'email':'Rami.Taha@e.braude.ac.il',\n",
        "     'Course': ' Cloud Computing',\n",
        "     'Hobby': ' Swimming'\n",
        "}\n",
        "data3={\n",
        "    'Name': ' jad Taha',\n",
        "     'email':'jad.Taha@e.braude.ac.il',\n",
        "     'Course': ' Cloud Computing',\n",
        "     'Hobby': ' marketing'\n",
        "}\n",
        "data4={\n",
        "    'Name': ' mohamed khatib',\n",
        "     'email':'mohamed.khatib@e.braude.ac.il',\n",
        "     'Course': ' Cloud Computing',\n",
        "     'Hobby': ' video games'\n",
        "}\n",
        "data5={\n",
        "    'Name': ' ibrahem jarmna',\n",
        "     'email':'ibrahem.jarmna@e.braude.ac.il',\n",
        "     'Course': ' Cloud Computing',\n",
        "     'Hobby': ' reading'\n",
        "}\n",
        "data6={\n",
        "    'Name': ' khalil mansour',\n",
        "     'email':'khalil.mansour@e.braude.ac.il',\n",
        "     'Course': ' Cloud Computing',\n",
        "     'Hobby': ' horses'\n",
        "}\n",
        "result = FBconn.post('/First Student',data1)\n",
        "result = FBconn.post('/Second Student',data2)\n",
        "result = FBconn.post('/Third Student',data3)\n",
        "result = FBconn.post('/Fourth Student',data4)\n",
        "result = FBconn.post('/Fifth Student',data5)\n",
        "result = FBconn.post('/Sixth Student',data6)\n",
        "\n",
        "\n",
        "\n",
        "\n",
        "\n",
        "\n"
      ]
    },
    {
      "cell_type": "code",
      "source": [
        "import json\n",
        "from firebase import firebase\n",
        "FBconn = firebase.FirebaseApplication('https://tut5-a7585-default-rtdb.firebaseio.com',None)\n",
        "res=FBconn.get('First Student',None)\n",
        "res1=FBconn.get('Second Student',None)\n",
        "res2=FBconn.get('Third Student',None)\n",
        "res3=FBconn.get('Fourth Student',None)\n",
        "res4=FBconn.get('Fifth Student',None)\n",
        "res5=FBconn.get('Sixth Student',None)\n",
        "for key in res:\n",
        "    print(key+\":\\t\", res[key])\n",
        "for key in res1:\n",
        "    print(key+\":\\t\", res1[key])\n",
        "for key in res2:\n",
        "    print(key+\":\\t\", res2[key])\n",
        "for key in res3:\n",
        "    print(key+\":\\t\", res3[key])\n",
        "for key in res4:\n",
        "    print(key+\":\\t\", res4[key])\n",
        "for key in res5:\n",
        "    print(key+\":\\t\", res5[key])"
      ],
      "metadata": {
        "colab": {
          "base_uri": "https://localhost:8080/"
        },
        "id": "yI-vE-1HJRAm",
        "outputId": "d8c44bac-d176-4ba1-ce20-1970637a5909"
      },
      "execution_count": 28,
      "outputs": [
        {
          "output_type": "stream",
          "name": "stdout",
          "text": [
            "-O1I1ixfW4u6NhtWvCVP:\t {'Course': ' Probability', 'Hobby': ' Spearfishing', 'Name': ' Kareem Zeedan', 'email': 'kareem.zeedan@e.braude.ac.il'}\n",
            "-O1I1j-0LpP0oUE7eOGS:\t {'Course': ' Cloud Computing', 'Hobby': ' Swimming', 'Name': ' Rami Taha', 'email': 'Rami.Taha@e.braude.ac.il'}\n",
            "-O1I1j1Exnwh8GDrFBCK:\t {'Course': ' Cloud Computing', 'Hobby': ' marketing', 'Name': ' jad Taha', 'email': 'jad.Taha@e.braude.ac.il'}\n",
            "-O1I1j3UTBKKLXslYMBY:\t {'Course': ' Cloud Computing', 'Hobby': ' video games', 'Name': ' mohamed khatib', 'email': 'mohamed.khatib@e.braude.ac.il'}\n",
            "-O1I1j5juSPlxQZdKEjo:\t {'Course': ' Cloud Computing', 'Hobby': ' reading', 'Name': ' ibrahem jarmna', 'email': 'ibrahem.jarmna@e.braude.ac.il'}\n",
            "-O1I1j81Xn6Sdpx8D3fZ:\t {'Course': ' Cloud Computing', 'Hobby': ' horses', 'Name': ' khalil mansour', 'email': 'khalil.mansour@e.braude.ac.il'}\n"
          ]
        }
      ]
    },
    {
      "cell_type": "code",
      "source": [
        "import json\n",
        "from firebase import firebase\n",
        "FBconn = firebase.FirebaseApplication('https://tut5-a7585-default-rtdb.firebaseio.com',None)\n",
        "i=0\n",
        "print(\"Do not enter the same student Twice from (First - Sixth)\")\n",
        "while(i<6):\n",
        "   name=input(\"Enter the Student's name\")\n",
        "   res=FBconn.get(name,None)\n",
        "   i+=1\n",
        "   for key in res:\n",
        "     print(key+\":\\t\", res[key])\n",
        "\n",
        ""
      ],
      "metadata": {
        "colab": {
          "base_uri": "https://localhost:8080/",
          "height": 358
        },
        "id": "Q4-oH0g7KFzQ",
        "outputId": "719a8cf3-1dd0-47d3-df0f-c2b57e94f408"
      },
      "execution_count": 30,
      "outputs": [
        {
          "name": "stdout",
          "output_type": "stream",
          "text": [
            "Do not enter the same student Twice from (First - Sixth)\n",
            "Enter the Student's nameFirst Student\n",
            "-O1I1ixfW4u6NhtWvCVP:\t {'Course': ' Probability', 'Hobby': ' Spearfishing', 'Name': ' Kareem Zeedan', 'email': 'kareem.zeedan@e.braude.ac.il'}\n",
            "Enter the Student's nameSecond Student\n",
            "-O1I1j-0LpP0oUE7eOGS:\t {'Course': ' Cloud Computing', 'Hobby': ' Swimming', 'Name': ' Rami Taha', 'email': 'Rami.Taha@e.braude.ac.il'}\n",
            "Enter the Student's nameThird Student\n",
            "-O1I1j1Exnwh8GDrFBCK:\t {'Course': ' Cloud Computing', 'Hobby': ' marketing', 'Name': ' jad Taha', 'email': 'jad.Taha@e.braude.ac.il'}\n",
            "Enter the Student's nameFourth Studnet\n"
          ]
        },
        {
          "output_type": "error",
          "ename": "TypeError",
          "evalue": "'NoneType' object is not iterable",
          "traceback": [
            "\u001b[0;31m---------------------------------------------------------------------------\u001b[0m",
            "\u001b[0;31mTypeError\u001b[0m                                 Traceback (most recent call last)",
            "\u001b[0;32m<ipython-input-30-4818463ac4cd>\u001b[0m in \u001b[0;36m<cell line: 6>\u001b[0;34m()\u001b[0m\n\u001b[1;32m      8\u001b[0m    \u001b[0mres\u001b[0m\u001b[0;34m=\u001b[0m\u001b[0mFBconn\u001b[0m\u001b[0;34m.\u001b[0m\u001b[0mget\u001b[0m\u001b[0;34m(\u001b[0m\u001b[0mname\u001b[0m\u001b[0;34m,\u001b[0m\u001b[0;32mNone\u001b[0m\u001b[0;34m)\u001b[0m\u001b[0;34m\u001b[0m\u001b[0;34m\u001b[0m\u001b[0m\n\u001b[1;32m      9\u001b[0m    \u001b[0mi\u001b[0m\u001b[0;34m+=\u001b[0m\u001b[0;36m1\u001b[0m\u001b[0;34m\u001b[0m\u001b[0;34m\u001b[0m\u001b[0m\n\u001b[0;32m---> 10\u001b[0;31m    \u001b[0;32mfor\u001b[0m \u001b[0mkey\u001b[0m \u001b[0;32min\u001b[0m \u001b[0mres\u001b[0m\u001b[0;34m:\u001b[0m\u001b[0;34m\u001b[0m\u001b[0;34m\u001b[0m\u001b[0m\n\u001b[0m\u001b[1;32m     11\u001b[0m      \u001b[0mprint\u001b[0m\u001b[0;34m(\u001b[0m\u001b[0mkey\u001b[0m\u001b[0;34m+\u001b[0m\u001b[0;34m\":\\t\"\u001b[0m\u001b[0;34m,\u001b[0m \u001b[0mres\u001b[0m\u001b[0;34m[\u001b[0m\u001b[0mkey\u001b[0m\u001b[0;34m]\u001b[0m\u001b[0;34m)\u001b[0m\u001b[0;34m\u001b[0m\u001b[0;34m\u001b[0m\u001b[0m\n\u001b[1;32m     12\u001b[0m \u001b[0;34m\u001b[0m\u001b[0m\n",
            "\u001b[0;31mTypeError\u001b[0m: 'NoneType' object is not iterable"
          ]
        }
      ]
    }
  ]
}